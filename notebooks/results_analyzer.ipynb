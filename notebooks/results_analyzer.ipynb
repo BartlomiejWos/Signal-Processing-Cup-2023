{
 "cells": [
  {
   "cell_type": "code",
   "execution_count": 1,
   "id": "128453cc-7bde-4575-bf0c-81c98a13f363",
   "metadata": {
    "tags": []
   },
   "outputs": [],
   "source": [
    "from pathlib import Path\n",
    "\n",
    "import numpy as np\n",
    "import pandas as pd\n",
    "\n",
    "from tqdm.auto import tqdm\n",
    "from matplotlib import pyplot as plt\n",
    "\n",
    "from spcup2023.dataset import spcup23_ds\n",
    "from spcup2023 import load_result, show_dist"
   ]
  },
  {
   "cell_type": "code",
   "execution_count": 2,
   "id": "e9da7138-94ff-4b6f-9d13-f76aaeb47b7a",
   "metadata": {
    "tags": []
   },
   "outputs": [],
   "source": [
    "_RESULT_PATH = Path(\"../submissions\")\n",
    "_DS_PATH = Path(\"../dataset\")\n",
    "\n",
    "train_ds = spcup23_ds(_DS_PATH, test=False)\n",
    "\n",
    "label_train = np.zeros(len(train_ds))\n",
    "for i in range(len(train_ds)):\n",
    "    filename, label, fnc, icn_tc = train_ds[i]\n",
    "    label_train[i] = label"
   ]
  },
  {
   "cell_type": "code",
   "execution_count": 4,
   "id": "a9f4e879-fd2c-40fc-8cc6-b85c396848a7",
   "metadata": {
    "tags": []
   },
   "outputs": [
    {
     "data": {
      "image/png": "[encoded data removed]",
      "text/plain": [
       "<Figure size 1944x72 with 1 Axes>"
      ]
     },
     "metadata": {
      "needs_background": "light"
     },
     "output_type": "display_data"
    },
    {
     "ename": "ValueError",
     "evalue": "too many values to unpack (expected 2)",
     "output_type": "error",
     "traceback": [
      "\u001b[1;31m---------------------------------------------------------------------------\u001b[0m",
      "\u001b[1;31mValueError\u001b[0m                                Traceback (most recent call last)",
      "Input \u001b[1;32mIn [4]\u001b[0m, in \u001b[0;36m<cell line: 1>\u001b[1;34m()\u001b[0m\n\u001b[1;32m----> 1\u001b[0m train_pred, test_pred \u001b[38;5;241m=\u001b[39m load_result(\u001b[38;5;241m43\u001b[39m)\n\u001b[0;32m      3\u001b[0m show_dist(label_train, train_pred, test_pred)\n",
      "\u001b[1;31mValueError\u001b[0m: too many values to unpack (expected 2)"
     ]
    }
   ],
   "source": [
    "train_pred, test_pred = load_result(43)\n",
    "\n",
    "show_dist(label_train, train_pred, test_pred)"
   ]
  },
  {
   "cell_type": "code",
   "execution_count": null,
   "id": "96fb6019-2d88-4375-823f-9080b800e65b",
   "metadata": {},
   "outputs": [],
   "source": []
  }
 ],
 "metadata": {
  "kernelspec": {
   "display_name": "Python 3 (ipykernel)",
   "language": "python",
   "name": "python3"
  },
  "language_info": {
   "codemirror_mode": {
    "name": "ipython",
    "version": 3
   },
   "file_extension": ".py",
   "mimetype": "text/x-python",
   "name": "python",
   "nbconvert_exporter": "python",
   "pygments_lexer": "ipython3",
   "version": "3.9.12"
  }
 },
 "nbformat": 4,
 "nbformat_minor": 5
}
