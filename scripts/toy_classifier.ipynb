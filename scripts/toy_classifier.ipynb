{
 "cells": [
  {
   "cell_type": "code",
   "execution_count": 140,
   "id": "e88f2eae-608f-40af-b308-0b7fbdcbfd21",
   "metadata": {
    "tags": []
   },
   "outputs": [],
   "source": [
    "from spcup2023.dataset import spcup23_ds\n",
    "import numpy as np\n",
    "import matplotlib.pyplot as plt"
   ]
  },
  {
   "cell_type": "code",
   "execution_count": 141,
   "id": "e67ea8f9-03ad-48b5-8fc7-d9bf877f09b0",
   "metadata": {
    "tags": []
   },
   "outputs": [],
   "source": [
    "dataset = spcup23_ds('../dataset')"
   ]
  },
  {
   "cell_type": "code",
   "execution_count": 142,
   "id": "9db384a2-71e7-4d27-b6fc-571809ce2f16",
   "metadata": {
    "tags": []
   },
   "outputs": [],
   "source": [
    "X, Y = [], []"
   ]
  },
  {
   "cell_type": "code",
   "execution_count": 143,
   "id": "f91ea3ca-35d1-48fb-8606-2102ff56325f",
   "metadata": {
    "tags": []
   },
   "outputs": [],
   "source": [
    "for i in range(len(dataset)):\n",
    "    Y.append(dataset[i][1])\n",
    "    X.append(dataset[i][2]) # we care only about FCN"
   ]
  },
  {
   "cell_type": "code",
   "execution_count": 144,
   "id": "d8656384-efba-47c6-beba-a763b3008ecc",
   "metadata": {
    "tags": []
   },
   "outputs": [
    {
     "name": "stdout",
     "output_type": "stream",
     "text": [
      "(471, 5460)\n"
     ]
    }
   ],
   "source": [
    "X = np.stack(X) \n",
    "\n",
    "Y = np.array(Y)"
   ]
  },
  {
   "cell_type": "code",
   "execution_count": 145,
   "id": "ef8e934a-bac6-4016-a488-a7c9496aa066",
   "metadata": {
    "tags": []
   },
   "outputs": [],
   "source": [
    "from sklearn.model_selection import train_test_split"
   ]
  },
  {
   "cell_type": "code",
   "execution_count": 146,
   "id": "def5155f-d453-4855-8469-7dc0c42f5829",
   "metadata": {
    "tags": []
   },
   "outputs": [],
   "source": [
    "X_train, X_valid, y_train, y_valid = train_test_split(\n",
    "...     X, Y, test_size=0.33, random_state=1138)"
   ]
  },
  {
   "cell_type": "code",
   "execution_count": 147,
   "id": "7207b765-bfb2-417f-9205-9527a7e6b890",
   "metadata": {
    "tags": []
   },
   "outputs": [],
   "source": [
    "from sklearn.linear_model import LogisticRegression"
   ]
  },
  {
   "cell_type": "code",
   "execution_count": 148,
   "id": "9e022dac-7ccd-4ccf-a1d3-7bc71052695c",
   "metadata": {
    "tags": []
   },
   "outputs": [],
   "source": [
    "clf = LogisticRegression(random_state=0, max_iter=1000).fit(X_train, y_train)"
   ]
  },
  {
   "cell_type": "code",
   "execution_count": 149,
   "id": "8daa7de8-e287-4035-8a34-aca0f5c91326",
   "metadata": {
    "tags": []
   },
   "outputs": [],
   "source": [
    "from sklearn.metrics import roc_auc_score"
   ]
  },
  {
   "cell_type": "code",
   "execution_count": 150,
   "id": "1fc8e6b4-21f3-43ae-bacd-e177bc87899a",
   "metadata": {
    "tags": []
   },
   "outputs": [
    {
     "data": {
      "text/plain": [
       "1.0"
      ]
     },
     "execution_count": 150,
     "metadata": {},
     "output_type": "execute_result"
    }
   ],
   "source": [
    "clf.score(X_train, y_train) # Self test"
   ]
  },
  {
   "cell_type": "code",
   "execution_count": 151,
   "id": "836af330-ebb8-4155-bde6-9a26e2da66ac",
   "metadata": {
    "tags": []
   },
   "outputs": [
    {
     "data": {
      "text/plain": [
       "1.0"
      ]
     },
     "execution_count": 151,
     "metadata": {},
     "output_type": "execute_result"
    }
   ],
   "source": [
    "roc_auc_score(y_train, clf.predict_proba(X_train)[:, 1])"
   ]
  },
  {
   "cell_type": "code",
   "execution_count": 152,
   "id": "301e1f61-54b2-4ac7-bb35-f72f23e2a873",
   "metadata": {
    "tags": []
   },
   "outputs": [
    {
     "data": {
      "text/plain": [
       "0.5576923076923077"
      ]
     },
     "execution_count": 152,
     "metadata": {},
     "output_type": "execute_result"
    }
   ],
   "source": [
    "\n",
    "clf.score(X_valid, y_valid) # Self test\n",
    "\n"
   ]
  },
  {
   "cell_type": "code",
   "execution_count": 153,
   "id": "06892067-cccc-4d41-97e3-0e380d3d178c",
   "metadata": {
    "tags": []
   },
   "outputs": [
    {
     "data": {
      "text/plain": [
       "0.5739996505329373"
      ]
     },
     "execution_count": 153,
     "metadata": {},
     "output_type": "execute_result"
    }
   ],
   "source": [
    "roc_auc_score(y_valid, clf.predict_proba(X_valid)[:, 1])"
   ]
  },
  {
   "cell_type": "code",
   "execution_count": null,
   "id": "b07f181f-fc97-492d-b5f6-0ea8db5da347",
   "metadata": {},
   "outputs": [],
   "source": []
  }
 ],
 "metadata": {
  "kernelspec": {
   "display_name": "Python 3 (ipykernel)",
   "language": "python",
   "name": "python3"
  },
  "language_info": {
   "codemirror_mode": {
    "name": "ipython",
    "version": 3
   },
   "file_extension": ".py",
   "mimetype": "text/x-python",
   "name": "python",
   "nbconvert_exporter": "python",
   "pygments_lexer": "ipython3",
   "version": "3.9.12"
  }
 },
 "nbformat": 4,
 "nbformat_minor": 5
}
